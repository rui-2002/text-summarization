{
 "cells": [
  {
   "cell_type": "code",
   "execution_count": 3,
   "id": "88756d2d",
   "metadata": {},
   "outputs": [],
   "source": [
    "import os"
   ]
  },
  {
   "cell_type": "code",
   "execution_count": 4,
   "id": "49c695e9",
   "metadata": {},
   "outputs": [
    {
     "data": {
      "text/plain": [
       "'/home/rui/Desktop/New Folder/text-summarization/research'"
      ]
     },
     "execution_count": 4,
     "metadata": {},
     "output_type": "execute_result"
    }
   ],
   "source": [
    "%pwd"
   ]
  },
  {
   "cell_type": "code",
   "execution_count": 5,
   "id": "0576b979",
   "metadata": {},
   "outputs": [],
   "source": [
    "## change directory to our root folder\n",
    "os.chdir(\"../\")"
   ]
  },
  {
   "cell_type": "code",
   "execution_count": 6,
   "id": "1829b370",
   "metadata": {},
   "outputs": [
    {
     "data": {
      "text/plain": [
       "'/home/rui/Desktop/New Folder/text-summarization'"
      ]
     },
     "execution_count": 6,
     "metadata": {},
     "output_type": "execute_result"
    }
   ],
   "source": [
    "%pwd"
   ]
  },
  {
   "cell_type": "code",
   "execution_count": 7,
   "id": "de942f23",
   "metadata": {},
   "outputs": [],
   "source": [
    "# ! kaggle datasets download nileshmalode1/samsum-dataset-text-summarization"
   ]
  },
  {
   "cell_type": "code",
   "execution_count": 8,
   "id": "28d34d3d",
   "metadata": {},
   "outputs": [],
   "source": [
    "# import zipfile\n",
    "\n",
    "# extract_to = os.path.join(\"samsum_dataset\")\n",
    "\n",
    "# with zipfile.ZipFile(\"samsum-dataset-text-summarization.zip\",\"r\") as zip_ref:\n",
    "#     zip_ref.extractall(extract_to)"
   ]
  },
  {
   "cell_type": "code",
   "execution_count": 9,
   "id": "198a3291",
   "metadata": {},
   "outputs": [
    {
     "name": "stdout",
     "output_type": "stream",
     "text": [
      "Warning: Your Kaggle API key is readable by other users on this system! To fix this, you can run 'chmod 600 /home/rui/.kaggle/kaggle.json'\n",
      "Dataset URL: https://www.kaggle.com/datasets/nileshmalode1/samsum-dataset-text-summarization\n",
      "License(s): unknown\n",
      "samsum-dataset-text-summarization.zip: Skipping, found more recently modified local copy (use --force to force download)\n"
     ]
    }
   ],
   "source": [
    "! kaggle datasets download nileshmalode1/samsum-dataset-text-summarization\n"
   ]
  },
  {
   "cell_type": "code",
   "execution_count": 10,
   "id": "78b4ef75",
   "metadata": {},
   "outputs": [],
   "source": [
    "from dataclasses import dataclass\n",
    "from pathlib import Path\n",
    "\n",
    "# define dataclass and inside that give parameter (frozen=True) and inside dacorator define class DataIngestion\n",
    "@dataclass(frozen=True) # inside data class we can mention our varibles , and what is the type of varible\n",
    "class DataIngestionConfig:\n",
    "    root_dir: Path # variable : type of varibale is Path\n",
    "    source_URL: str\n",
    "    local_data_file:Path\n",
    "    unzip_dir:Path"
   ]
  },
  {
   "cell_type": "code",
   "execution_count": 1,
   "id": "e9c0f84e",
   "metadata": {},
   "outputs": [
    {
     "ename": "ImportError",
     "evalue": "cannot import name 'ConfigBox' from 'box' (/home/rui/miniconda3/envs/textS/lib/python3.12/site-packages/box/__init__.py)",
     "output_type": "error",
     "traceback": [
      "\u001b[31m---------------------------------------------------------------------------\u001b[39m",
      "\u001b[31mImportError\u001b[39m                               Traceback (most recent call last)",
      "\u001b[36mCell\u001b[39m\u001b[36m \u001b[39m\u001b[32mIn[1]\u001b[39m\u001b[32m, line 2\u001b[39m\n\u001b[32m      1\u001b[39m \u001b[38;5;28;01mfrom\u001b[39;00m\u001b[38;5;250m \u001b[39m\u001b[34;01mtextsummarizer\u001b[39;00m\u001b[34;01m.\u001b[39;00m\u001b[34;01mconstants\u001b[39;00m\u001b[38;5;250m \u001b[39m\u001b[38;5;28;01mimport\u001b[39;00m *\n\u001b[32m----> \u001b[39m\u001b[32m2\u001b[39m \u001b[38;5;28;01mfrom\u001b[39;00m\u001b[38;5;250m \u001b[39m\u001b[34;01mtextsummarizer\u001b[39;00m\u001b[34;01m.\u001b[39;00m\u001b[34;01mutils\u001b[39;00m\u001b[34;01m.\u001b[39;00m\u001b[34;01mcommon\u001b[39;00m\u001b[38;5;250m \u001b[39m\u001b[38;5;28;01mimport\u001b[39;00m read_yml,create_directories\n",
      "\u001b[36mFile \u001b[39m\u001b[32m~/Desktop/New Folder/text-summarization/src/textsummarizer/utils/common.py:6\u001b[39m\n\u001b[32m      4\u001b[39m \u001b[38;5;28;01mfrom\u001b[39;00m\u001b[38;5;250m \u001b[39m\u001b[34;01mtextsummarizer\u001b[39;00m\u001b[34;01m.\u001b[39;00m\u001b[34;01mlogging\u001b[39;00m\u001b[38;5;250m \u001b[39m\u001b[38;5;28;01mimport\u001b[39;00m logger\n\u001b[32m      5\u001b[39m \u001b[38;5;28;01mfrom\u001b[39;00m\u001b[38;5;250m \u001b[39m\u001b[34;01mensure\u001b[39;00m\u001b[38;5;250m \u001b[39m\u001b[38;5;28;01mimport\u001b[39;00m ensure_annotations\n\u001b[32m----> \u001b[39m\u001b[32m6\u001b[39m \u001b[38;5;28;01mfrom\u001b[39;00m\u001b[38;5;250m \u001b[39m\u001b[34;01mbox\u001b[39;00m\u001b[38;5;250m \u001b[39m\u001b[38;5;28;01mimport\u001b[39;00m ConfigBox\n\u001b[32m      7\u001b[39m \u001b[38;5;28;01mfrom\u001b[39;00m\u001b[38;5;250m \u001b[39m\u001b[34;01mpathlib\u001b[39;00m\u001b[38;5;250m \u001b[39m\u001b[38;5;28;01mimport\u001b[39;00m Path\n\u001b[32m      8\u001b[39m \u001b[38;5;28;01mfrom\u001b[39;00m\u001b[38;5;250m \u001b[39m\u001b[34;01mtyping\u001b[39;00m\u001b[38;5;250m \u001b[39m\u001b[38;5;28;01mimport\u001b[39;00m Any\n",
      "\u001b[31mImportError\u001b[39m: cannot import name 'ConfigBox' from 'box' (/home/rui/miniconda3/envs/textS/lib/python3.12/site-packages/box/__init__.py)"
     ]
    }
   ],
   "source": [
    "from textsummarizer.constants import *\n",
    "from textsummarizer.utils.common import read_yml,create_directories\n"
   ]
  }
 ],
 "metadata": {
  "kernelspec": {
   "display_name": "textS",
   "language": "python",
   "name": "python3"
  },
  "language_info": {
   "codemirror_mode": {
    "name": "ipython",
    "version": 3
   },
   "file_extension": ".py",
   "mimetype": "text/x-python",
   "name": "python",
   "nbconvert_exporter": "python",
   "pygments_lexer": "ipython3",
   "version": "3.12.11"
  }
 },
 "nbformat": 4,
 "nbformat_minor": 5
}
