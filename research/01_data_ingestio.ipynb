{
 "cells": [
  {
   "cell_type": "code",
   "execution_count": 1,
   "id": "88756d2d",
   "metadata": {},
   "outputs": [],
   "source": [
    "import os"
   ]
  },
  {
   "cell_type": "code",
   "execution_count": 2,
   "id": "49c695e9",
   "metadata": {},
   "outputs": [
    {
     "data": {
      "text/plain": [
       "'/home/rui/Desktop/New Folder/text-summarization/research'"
      ]
     },
     "execution_count": 2,
     "metadata": {},
     "output_type": "execute_result"
    }
   ],
   "source": [
    "%pwd"
   ]
  },
  {
   "cell_type": "code",
   "execution_count": 3,
   "id": "0576b979",
   "metadata": {},
   "outputs": [],
   "source": [
    "## change directory to our root folder\n",
    "os.chdir(\"../\")"
   ]
  },
  {
   "cell_type": "code",
   "execution_count": 4,
   "id": "1829b370",
   "metadata": {},
   "outputs": [
    {
     "data": {
      "text/plain": [
       "'/home/rui/Desktop/New Folder/text-summarization'"
      ]
     },
     "execution_count": 4,
     "metadata": {},
     "output_type": "execute_result"
    }
   ],
   "source": [
    "%pwd"
   ]
  },
  {
   "cell_type": "code",
   "execution_count": 5,
   "id": "de942f23",
   "metadata": {},
   "outputs": [],
   "source": [
    "# ! kaggle datasets download nileshmalode1/samsum-dataset-text-summarization"
   ]
  },
  {
   "cell_type": "code",
   "execution_count": 8,
   "id": "28d34d3d",
   "metadata": {},
   "outputs": [],
   "source": [
    "# import zipfile\n",
    "\n",
    "# extract_to = os.path.join(\"samsum_dataset\")\n",
    "\n",
    "# with zipfile.ZipFile(\"samsum-dataset-text-summarization.zip\",\"r\") as zip_ref:\n",
    "#     zip_ref.extractall(extract_to)"
   ]
  },
  {
   "cell_type": "code",
   "execution_count": 9,
   "id": "198a3291",
   "metadata": {},
   "outputs": [
    {
     "name": "stdout",
     "output_type": "stream",
     "text": [
      "Warning: Your Kaggle API key is readable by other users on this system! To fix this, you can run 'chmod 600 /home/rui/.kaggle/kaggle.json'\n",
      "Dataset URL: https://www.kaggle.com/datasets/nileshmalode1/samsum-dataset-text-summarization\n",
      "License(s): unknown\n",
      "samsum-dataset-text-summarization.zip: Skipping, found more recently modified local copy (use --force to force download)\n"
     ]
    }
   ],
   "source": [
    "! kaggle datasets download nileshmalode1/samsum-dataset-text-summarization\n"
   ]
  },
  {
   "cell_type": "code",
   "execution_count": 6,
   "id": "78b4ef75",
   "metadata": {},
   "outputs": [],
   "source": [
    "from dataclasses import dataclass\n",
    "from pathlib import Path\n",
    "\n",
    "# define dataclass and inside that give parameter (frozen=True) and inside dacorator define class DataIngestion\n",
    "@dataclass(frozen=True) # inside data class we can mention our varibles , and what is the type of varible\n",
    "class DataIngestionConfig:\n",
    "    root_dir: Path # variable : type of varibale is Path\n",
    "    source_URL: str\n",
    "    local_data_file:Path\n",
    "    unzip_dir:Path"
   ]
  },
  {
   "cell_type": "code",
   "execution_count": 7,
   "id": "e9c0f84e",
   "metadata": {},
   "outputs": [],
   "source": [
    "from textsummarizer.constants import *\n",
    "from textsummarizer.utils.common import read_yml,create_directories\n"
   ]
  },
  {
   "cell_type": "code",
   "execution_count": 14,
   "id": "5ceb9894",
   "metadata": {},
   "outputs": [],
   "source": [
    "class ConfigurationManager:\n",
    "    def __init__(\n",
    "            self,\n",
    "            config_filepath=CONFIG_FILE_PATH,\n",
    "            params_filepath=PARAMS_FILE_PATH):\n",
    "        \n",
    "\n",
    "        self.config=read_yml(config_filepath)\n",
    "        self.params=read_yml(params_filepath)\n",
    "\n",
    "        create_directories([self.config.artifacts_root])\n",
    "\n",
    "\n",
    "    def get_data_ingestion_config(self) ->DataIngestionConfig:\n",
    "        config=self.config.data_ingestion\n",
    "\n",
    "        create_directories([config.root_dir])\n",
    "\n",
    "        data_ingestion_config= DataIngestionConfig(\n",
    "            root_dir=config.root_dir,\n",
    "            source_URL=config.source_URL,\n",
    "            local_data_file=config.local_data_file,\n",
    "            unzip_dir=config.unzip_dir\n",
    "        )\n",
    "\n",
    "        return data_ingestion_config"
   ]
  },
  {
   "cell_type": "code",
   "execution_count": 9,
   "id": "89a81bb8",
   "metadata": {},
   "outputs": [],
   "source": [
    "import os\n",
    "import urllib.request as request\n",
    "import zipfile\n",
    "from textsummarizer.logging import logger\n",
    "from textsummarizer.utils.common import get_size"
   ]
  },
  {
   "cell_type": "code",
   "execution_count": 15,
   "id": "b91c130e",
   "metadata": {},
   "outputs": [],
   "source": [
    "class DataIngestion:\n",
    "    def __init__(self,config:DataIngestionConfig):\n",
    "        self.config=config\n",
    "\n",
    "    \n",
    "    def download_file(self):\n",
    "        if not os.path.exists(self.config.local_data_file):\n",
    "            filename,headers=request.urlretrieve(\n",
    "                url=self.config.source_URL,\n",
    "                filename=self.config.local_data_file\n",
    "            )\n",
    "            logger.info(f\"{filename} download! with following info: \\n{headers}\")\n",
    "        else:\n",
    "            logger.info(f\"File already exist of size: {get_size(Path(self.config.local_data_file))} \")\n",
    "\n",
    "\n",
    "    def extract_zip_file(self):\n",
    "        \"\"\"\n",
    "        zip_file_path : str\n",
    "        Extract the zip file into the data directory\n",
    "        Function returns None\n",
    "        \"\"\"\n",
    "\n",
    "        unzip_path=self.config.unzip_dir\n",
    "        os.makedirs(unzip_path,exist_ok=True) # creating director with name unzip_path\n",
    "        with zipfile.ZipFile(self.config.local_data_file,'r') as zip_ref:\n",
    "            zip_ref.extractall(unzip_path)"
   ]
  },
  {
   "cell_type": "code",
   "execution_count": 20,
   "id": "95bd8eff",
   "metadata": {},
   "outputs": [
    {
     "name": "stdout",
     "output_type": "stream",
     "text": [
      "[2025-09-01 03:51:41,545: INFO : common : yaml file : config/config.yaml loaded successfully.]\n",
      "[2025-09-01 03:51:41,547: INFO : common : yaml file : params.yaml loaded successfully.]\n",
      "[2025-09-01 03:51:41,549: INFO : common : Created directory at : artifacts]\n",
      "[2025-09-01 03:51:41,550: INFO : common : Created directory at : artifacts/data_ingestion]\n",
      "[2025-09-01 03:51:41,550: INFO : 1018075320 : File already exist of size: ~ 8181 KB ]\n"
     ]
    }
   ],
   "source": [
    "try: \n",
    "    config= ConfigurationManager()\n",
    "    data_ingestion_config= config.get_data_ingestion_config()\n",
    "    data_ingestion=DataIngestion(config=data_ingestion_config)\n",
    "    data_ingestion.download_file()\n",
    "    data_ingestion.extract_zip_file()\n",
    "except Exception as e:\n",
    "    raise e"
   ]
  }
 ],
 "metadata": {
  "kernelspec": {
   "display_name": "textS",
   "language": "python",
   "name": "python3"
  },
  "language_info": {
   "codemirror_mode": {
    "name": "ipython",
    "version": 3
   },
   "file_extension": ".py",
   "mimetype": "text/x-python",
   "name": "python",
   "nbconvert_exporter": "python",
   "pygments_lexer": "ipython3",
   "version": "3.12.11"
  }
 },
 "nbformat": 4,
 "nbformat_minor": 5
}
